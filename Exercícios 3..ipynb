{
 "cells": [
  {
   "cell_type": "markdown",
   "metadata": {},
   "source": [
    "1. Faça um Programa que peça dois números e imprima o maior deles."
   ]
  },
  {
   "cell_type": "code",
   "execution_count": null,
   "metadata": {},
   "outputs": [],
   "source": [
    "n1 = input('Digite o primero numero: ')\n",
    "n2 = input('Digite o segundo numero: ')\n",
    "\n",
    "if n1 > n2:\n",
    "    print(n1,'è Maior que',n2)\n",
    "else:\n",
    "    print(n2,'è maior que',n1)\n",
    "\n"
   ]
  },
  {
   "cell_type": "markdown",
   "metadata": {},
   "source": [
    "2. Faça um Programa que verifique se uma letra digitada é vogal ou consoante."
   ]
  },
  {
   "cell_type": "code",
   "execution_count": null,
   "metadata": {
    "scrolled": true
   },
   "outputs": [],
   "source": [
    "letra = str(input('Digite uma letra: ').lower())\n",
    "if letra == 'a' or letra == 'e' or letra == 'i' or letra =='o' or letra =='u':\n",
    "    print('A letra é uma vogal')\n",
    "else:\n",
    "    print(letra,'È consoante')"
   ]
  },
  {
   "cell_type": "markdown",
   "metadata": {},
   "source": [
    "3. Faça um programa para a leitura de duas notas parciais de um aluno. O programa\n",
    "deve calcular a média alcançada por aluno e apresentar:\n",
    "- A mensagem \"Aprovado\", se a média alcançada for maior ou igual a sete;\n",
    "- A mensagem \"Reprovado\", se a média for menor do que sete;\n",
    "- A mensagem \"Aprovado com Distinção\", se a média for igual a dez"
   ]
  },
  {
   "cell_type": "code",
   "execution_count": null,
   "metadata": {},
   "outputs": [],
   "source": [
    "n1 = int(input('Digite a primera nota: '))\n",
    "n2 = int(input('Digite a segunda nota: '))\n",
    "\n",
    "media = (n1+n2) /2\n",
    "if media >= 7 and media < 10:     \n",
    "    print ('Aprovado!!')\n",
    "elif media >= 10:\n",
    "    print ('aprovado com Distinção!')   \n",
    "else:\n",
    "    print ('Reprovado')\n",
    "\n",
    "\n"
   ]
  },
  {
   "cell_type": "markdown",
   "metadata": {},
   "source": [
    "4. Faça um Programa que leia três números e mostre-os em ordem decrescente."
   ]
  },
  {
   "cell_type": "code",
   "execution_count": null,
   "metadata": {},
   "outputs": [],
   "source": [
    "n1 = int(input(\"Digite um numero: \"))\n",
    "n2 = int(input(\"Digite um numero: \"))\n",
    "n3 = int(input(\"Digite um numero: \"))\n",
    "\n",
    "if n1 > n2 > n3:\n",
    "    print(n1, n2, n3)\n",
    "elif n1 > n2 > n3:\n",
    "    print(n1, n2, n3)"
   ]
  },
  {
   "cell_type": "markdown",
   "metadata": {},
   "source": [
    "5.As Organizações Tabajara resolveram dar um aumento de salário aos seus\n",
    "colaboradores e lhe contrataram para desenvolver o programa que calculará os\n",
    "reajustes.\n",
    "Faça um programa que recebe o salário de um colaborador e o reajuste segundo o\n",
    "seguinte critério, baseado no salário atual:\n",
    "- salários até R$ 280,00 (incluindo) : aumento de 20%\n",
    "- salários entre R$ 280,00 e R$ 700,00 : aumento de 15%\n",
    "- salários entre R$ 700,00 e R$ 1500,00 : aumento de 10%\n",
    "- salários de R$ 1500,00 em diante : aumento de 5% Após o aumento ser realizado,\n",
    "informe na tela:\n",
    "- o salário antes do reajuste;\n",
    "- o percentual de aumento aplicado;\n",
    "- o valor do aumento;\n",
    "- o novo salário, após o aumento.\n"
   ]
  },
  {
   "cell_type": "code",
   "execution_count": null,
   "metadata": {},
   "outputs": [],
   "source": [
    "salario = float(input('Digite o salário: '))\n",
    "\n",
    "if salario <= 280:\n",
    "    aum = (20 /100) * salario\n",
    "    result = salario + aum\n",
    "    print('Salario Antes do Reajuste', salario)\n",
    "    print('Seu Salario Aumentou 20%')\n",
    "    print('Seu Salario Auementou', aum)\n",
    "    print('Seu Salario Depois do Aumento', result)\n",
    "    \n",
    "elif salario >280 and salario <700:\n",
    "    aum =(15/100) * salario\n",
    "    result =salario + aum\n",
    "    print('Salario Antes do Reajuste', salario)\n",
    "    print('Seu Salario Aumentou 15%')\n",
    "    print('Seu Salario Auementou', aum)\n",
    "    print('Seu Salario Depois do Aumento', result)\n",
    "\n",
    "elif salario >= 700 and salario <1500:\n",
    "    aum = (10/100) * salario\n",
    "    result = salario + aum\n",
    "    print('Salario Antes do Reajuste', salario)\n",
    "    print('Seu Salario Aumentou 10%')\n",
    "    print('Seu Salario Auementou', aum)\n",
    "    print('Seu Salario Depois do Aumento', result)\n",
    "    \n",
    "elif salario >1500:\n",
    "    aum = (5/100) * salario\n",
    "    result = aum + salario\n",
    "    print('Salario Antes do Reajuste', salario)\n",
    "    print('Seu Salario Aumentou 5%')\n",
    "    print('Seu Salario Auementou', aum)\n",
    "    print('Seu Salario Depois do Aumento', result)"
   ]
  },
  {
   "cell_type": "markdown",
   "metadata": {},
   "source": [
    "6. Faça um Programa que leia um número e exiba o dia correspondente da semana.\n",
    "(1-Domingo, 2- Segunda, etc.), se digitar outro valor deve aparecer valor inválido."
   ]
  },
  {
   "cell_type": "code",
   "execution_count": null,
   "metadata": {},
   "outputs": [],
   "source": [
    "dia = int(input('Digite um numero: '))\n",
    "\n",
    "if dia == 1:\n",
    "    print('Domingo')\n",
    "elif dia == 2:\n",
    "    print('Segunda - Feira')\n",
    "elif dia == 3:\n",
    "    print('Terça - Feira')\n",
    "elif dia == 4:\n",
    "    print('Quarta - Feira')\n",
    "elif dia == 5:\n",
    "    print('Quinta - Feira')\n",
    "elif dia == 6:\n",
    "    print('Sexta - Feira')\n",
    "elif dia == 7:\n",
    "    print('Sabado - Feira')\n",
    "elif dia > 7:\n",
    "    print('Valor Invalido')\n",
    "\n"
   ]
  },
  {
   "cell_type": "markdown",
   "metadata": {},
   "source": [
    "7. Faça um programa que lê as duas notas parciais obtidas por um aluno numa\n",
    "disciplina ao longo de um semestre, e calcule a sua média. A atribuição de conceitos\n",
    "obedece à tabela abaixo:\n",
    "\n",
    "Média de Aproveitamento Conceito\n",
    " Entre 9.0 e 10.0 A\n",
    " Entre 7.5 e 9.0 B\n",
    " Entre 6.0 e 7.5 C\n",
    " Entre 4.0 e 6.0 D\n",
    " Entre 4.0 e zero E\n",
    "\n",
    "O algoritmo deve mostrar na tela as notas, a média, o conceito correspondente e a\n",
    "mensagem “APROVADO” se o conceito for A, B ou C ou “REPROVADO” se o conceito\n",
    "for D ou E."
   ]
  },
  {
   "cell_type": "code",
   "execution_count": null,
   "metadata": {},
   "outputs": [],
   "source": [
    "n1 = float(input('Digite a Primeira Nota: '))\n",
    "n2 = float(input('Digite a Segunda Nota: '))\n",
    "media = (n1+n2) /2\n",
    "\n",
    "if media >= 9.0 and media < 10.0:\n",
    "    print('Sua Primeira nota Foi', n1)\n",
    "    print('Sua Segunda nota Foi', n2)\n",
    "    print('Ficou com uma Média', media)\n",
    "    print ('Voce ficou com um: A')\n",
    "    print('Você foi Aprovado!')\n",
    "elif media >= 7.5 and media <=9.0:\n",
    "    print('Sua Primeira nota Foi', n1)\n",
    "    print('Sua Segunda nota Foi', n2)\n",
    "    print('Ficou com uma Média', media)\n",
    "    print ('B')  \n",
    "    print('Você foi Aprovado!')\n",
    "elif media >= 6.0 and media <=7.5:\n",
    "    print('Sua Primeira nota Foi', n1)\n",
    "    print('Sua Segunda nota Foi', n2)\n",
    "    print('Ficou com uma Média', media)\n",
    "    print ('C')  \n",
    "    print('Você foi Aprovado!')\n",
    "elif media >= 4.0 and media <=6.0:\n",
    "    print('Sua Primeira nota Foi', n1)\n",
    "    print('Sua Segunda nota Foi', n2)\n",
    "    print('Ficou com uma Média', media)\n",
    "    print ('D')\n",
    "    print('Você foi Reprovado!')\n",
    "     \n",
    "elif media >= 4.0 and media <=0:\n",
    "    print('Sua Primeira nota Foi', n1)\n",
    "    print('Sua Segunda nota Foi', n2)\n",
    "    print('Ficou com uma Média', media)\n",
    "    print ('E')\n",
    "    print('Você foi Reprovado!')\n"
   ]
  },
  {
   "cell_type": "markdown",
   "metadata": {},
   "source": [
    "8. Faça um Programa que peça os 3 lados de um triângulo.\n",
    "O programa deverá informar se os valores podem ser um triângulo. Indique, caso os lados formem um\n",
    "triângulo, se o mesmo é: equilátero, isósceles ou escaleno.\n",
    "Dicas:\n",
    "- Três lados formam um triângulo quando a soma de quaisquer dois lados for maior que o terceiro;\n",
    "- Triângulo Equilátero: três lados iguais;\n",
    "- Triângulo Isósceles: quaisquer dois lados iguais;\n",
    "- Triângulo Escaleno: três lados diferentes;\n",
    "# revisar esse algoritimo"
   ]
  },
  {
   "cell_type": "code",
   "execution_count": null,
   "metadata": {},
   "outputs": [],
   "source": [
    "ld1 = input(\"Lado 1: \")\n",
    "ld2 = input(\"Lado 2: \")\n",
    "ld3 = input(\"Lado 3: \")\n",
    "\n",
    "if ld1 + ld2 > ld3:\n",
    "    if ld1 == ld2 and ld1 == ld3:\n",
    "        print('È um triangulo Equilátero')\n",
    "    elif ld1 == ld2 or ld2 == ld3 or ld1 ==ld3:\n",
    "        print('È um triangulo Isóceles')\n",
    "    elif ld1 != ld2 and ld3 or ld2 != ld1 and ld3 or ld1 != ld3:\n",
    "        print ('Triângulo Escaleno')\n",
    "else:\n",
    "    print(\"Não e um triangulo\")\n",
    "\n"
   ]
  },
  {
   "cell_type": "markdown",
   "metadata": {},
   "source": [
    "9.Faça um programa que calcule as raízes de uma equação do segundo grau, na forma ax2 + bx + c. O programa deverá pedir os valores de a, b e c e fazer as consistências, informando ao usuário nas seguintes situações:\n",
    "- Se o usuário informar o valor de A igual a zero, a equação não é do segundo grau e o programa não deve fazer pedir os demais valores, sendo encerrado;\n",
    "- Se o delta calculado for negativo, a equação não possui raizes reais. Informe ao usuário e encerre o programa;\n",
    "- Se o delta calculado for igual a zero a equação possui apenas uma raiz real; informe-a ao usuário;\n",
    "- Se o delta for positivo, a equação possui duas raiz reais; informe-as ao usuário;"
   ]
  },
  {
   "cell_type": "code",
   "execution_count": null,
   "metadata": {},
   "outputs": [],
   "source": [
    "import math\n",
    "a = int( input('Valor de a: ') )\n",
    "if a==0:\n",
    "    print('A equação nao e de Segunro Grau, Tente novamente')\n",
    "else:\n",
    "    b = int( input('Valor b: ') )\n",
    "    c = int( input('Valor c: ') )\n",
    "    delta = b*b - (4*a*c)\n",
    "\n",
    "if delta<0:\n",
    "    print('Não Possu Raizes, Tente Novamente')\n",
    "elif delta==0:\n",
    "    raiz = -b / (2*a)\n",
    "    print('Sua Equação so Possui uma Raiz = ',raiz)\n",
    "else:\n",
    "    raiz_1 = (-b + math.sqrt(delta) ) / (2*a)\n",
    "    raiz_2 = (-b - math.sqrt(delta) ) / (2*a)\n",
    "    print('Raizes: ',raiz_1,' e ',raiz_2)"
   ]
  },
  {
   "cell_type": "markdown",
   "metadata": {},
   "source": [
    "10. Faça um Programa para um caixa eletrônico. O programa deverá perguntar ao\n",
    "usuário o valor do saque e depois informar quantas notas de cada valor serão\n",
    "fornecidas.\n",
    "As notas disponíveis serão as de 1, 5, 10, 50 e 100 reais. O valor mínimo é\n",
    "de 10 reais e o máximo de 600 reais. O programa não deve se preocupar com a\n",
    "quantidade de notas existentes na máquina.\n",
    "- Exemplo 1: Para sacar a quantia de 256 reais, o programa fornece duas notas de 100, uma nota de 50, uma nota de 5 e uma nota de 1;\n",
    "- Exemplo 2: Para sacar a quantia de 399 reais, o programa fornece três notas de 100, uma nota de 50, quatro notas de 10, uma nota de 5 e quatro notas de 1.\n",
    "\n",
    "# revisar esse algoritmo"
   ]
  },
  {
   "cell_type": "code",
   "execution_count": null,
   "metadata": {},
   "outputs": [],
   "source": [
    "def metodo_1(valor):\n",
    "    valor_total = valor \n",
    "    \n",
    "    notas100 = valor // 100  \n",
    "    valor -= notas100 * 100  \n",
    "    \n",
    "    notas50 = valor // 50\n",
    "    valor -= notas50 * 50\n",
    "    \n",
    "    notas10 = valor // 10\n",
    "    valor -= notas10 * 10\n",
    "    \n",
    "    notas5 = valor // 5\n",
    "    valor -= notas5 * 5\n",
    "    \n",
    "    print_notas(valor_total, valor, notas5, notas10, notas50, notas100)\n",
    "\n",
    "\n",
    "valor = int(input('Valor do Saque ? '))\n",
    "\n",
    "resposta1 = metodo_1(valor)\n",
    "\n"
   ]
  },
  {
   "cell_type": "markdown",
   "metadata": {},
   "source": [
    "11. Faça um programa que faça 5 perguntas para uma pessoa sobre um crime. As\n",
    "perguntas são:\n",
    "-\"Telefonou para a vítima?\"\n",
    "-\"Esteve no local do crime?\"\n",
    "-\"Mora perto da vítima?\"\n",
    "-\"Devia para a vítima?\"\n",
    "-\"Já trabalhou com a vítima?\"\n",
    "O programa deve no final emitir uma classificação sobre a participação da pessoa no\n",
    "crime. Se a pessoa responder positivamente a 2 questões ela deve ser classificada\n",
    "como \"Suspeita\", entre 3 e 4 como \"Cúmplice\" e 5 como \"Assassino\". Caso contrário,\n",
    "ele será classificado como \"Inocente\"."
   ]
  },
  {
   "cell_type": "code",
   "execution_count": null,
   "metadata": {},
   "outputs": [],
   "source": [
    "#objeto\n",
    "perguntas = [ \n",
    "    \"Telefonou para a vítima?\" ,\n",
    "    \"Esteve no local do crime?\" ,\n",
    "    \"Mora perto da vítima?\" ,\n",
    "    \"Devia para a vítima?\" ,\n",
    "    \"Já trabalhou com a vítima?\" \n",
    "]\n",
    "resposta = 0\n",
    "for qual in perguntas:\n",
    "  resposta += (input(qual) == \"sim\")\n",
    "  \n",
    "if resposta == 5:\n",
    "  print(\"Assassino\")\n",
    "elif resposta >=3:\n",
    "  print(\"Cúmplice\")\n",
    "elif resposta ==2:\n",
    "  print(\"Suspeito\")\n",
    "else:\n",
    "  print(\"Inocente\")\n",
    "  "
   ]
  },
  {
   "cell_type": "markdown",
   "metadata": {},
   "source": [
    "12. Uma fruteira está vendendo frutas com a seguinte tabela de preços:\n",
    "Se o cliente comprar mais de 8 Kg em frutas ou o valor total da compra ultrapassar\n",
    "R$ 25,00, receberá ainda um desconto de 10% sobre este total. \n",
    "Escreva um algoritmo para ler a quantidade (em Kg) de morangos e a quantidade (em Kg) de maças adquiridas e escreva o valor a ser pago pelo cliente.\n",
    "\n",
    "              Até 5 Kg      Acima de 5 Kg\n",
    "Morango R$ 2,50 por Kg      R$ 2,20 por Kg\n",
    "Maçã    R$ 1,80 por Kg      R$ 1,50 por Kg\n",
    "#REVISAR"
   ]
  },
  {
   "cell_type": "code",
   "execution_count": null,
   "metadata": {},
   "outputs": [],
   "source": []
  },
  {
   "cell_type": "markdown",
   "metadata": {},
   "source": [
    "13. Faça um programa que peça uma nota, entre zero e dez. \n",
    "Mostre uma mensagemcaso o valor seja inválido e continue pedindo até que o usuário informe um valor válido."
   ]
  },
  {
   "cell_type": "code",
   "execution_count": null,
   "metadata": {},
   "outputs": [],
   "source": [
    "numero =int(input(\"digite a nota de 0 a 10: \"))\n",
    "while 0 > numero or 10 < numero:\n",
    "    numero = int (input(\"Repeite a Rega.\\nDigite a nota de 0 a 10\"))\n"
   ]
  },
  {
   "cell_type": "markdown",
   "metadata": {},
   "source": [
    "13. Faça um programa que leia e valide as seguintes informações:\n",
    "Nome: maior que 3 caracteres;\n",
    "Idade: entre 0 e 150;\n",
    "Salário: maior que zero;\n",
    "Sexo: 'f' ou 'm';\n",
    "Estado Civil: 's', 'c', 'v', 'd';\n",
    "# revisar algoritimo"
   ]
  },
  {
   "cell_type": "code",
   "execution_count": null,
   "metadata": {},
   "outputs": [],
   "source": [
    "nome = str(input('Digite Seu Nome: '))\n",
    "while len(nome)<=3:\n",
    "    nome = input('Digite um nome valido')\n",
    "    \n",
    "    \n",
    "idade = int(input(\"Digite sua Idade: \"))\n",
    "while idade < 0  or idade > 150:\n",
    "    idade = int(input(\"Digite um numero Valido\"))\n",
    "    \n",
    "salario = float(input(\"Digite seu Salario: \"))\n",
    "while salario <= 0:\n",
    "    salario = float(input('Digite um valor valido'))\n",
    "    \n",
    "\n"
   ]
  },
  {
   "cell_type": "raw",
   "metadata": {},
   "source": [
    "14. Faça um programa que leia 5 números e informe o maior número."
   ]
  },
  {
   "cell_type": "code",
   "execution_count": null,
   "metadata": {},
   "outputs": [],
   "source": [
    "lista = []\n",
    "qtd = 5\n",
    "\n",
    "for n in range(0,int(qtd)): \n",
    "    lista.append(int(input('Digite o número: ')))\n",
    "\n",
    "print ('Maior número da lista: ', max(lista))\n",
    "\n",
    "\n",
    "\n",
    "\n",
    "#lista = []\n",
    "#while True:\n",
    " #   n = int(input('Digite o número (0 para encerrar): '))\n",
    "  #  if n == 0:\n",
    "   #     break\n",
    "    #    lista.append(n)\n",
    "\n",
    "#print ('O maior número da lista é: ', max(lista)) "
   ]
  },
  {
   "cell_type": "markdown",
   "metadata": {},
   "source": [
    "15. Faça um programa que leia 5 números e informe a soma e a média dos números.\n"
   ]
  },
  {
   "cell_type": "code",
   "execution_count": null,
   "metadata": {},
   "outputs": [],
   "source": [
    "num1=float(input(\"digite o 1º numero: \"))\n",
    "num2=float(input(\"digite o 2º numero: \"))\n",
    "num3=float(input(\"digite o 3º numero: \"))\n",
    "num4=float(input(\"digite o 4º numero: \"))\n",
    "num5=float(input(\"digite o 5º numero: \"))\n",
    "soma=num1+num2+num3+num4+num5\n",
    "print(\"soma: \",soma,)\n",
    "print(\"média: \",soma/5)"
   ]
  },
  {
   "cell_type": "markdown",
   "metadata": {},
   "source": [
    "16. Faça um programa que imprima na tela apenas os números ímpares entre 1 e 50."
   ]
  },
  {
   "cell_type": "code",
   "execution_count": null,
   "metadata": {},
   "outputs": [],
   "source": [
    "for i in range(1,51,2):\n",
    "    print (i)"
   ]
  },
  {
   "cell_type": "markdown",
   "metadata": {},
   "source": [
    "17. Desenvolva um gerador de tabuada, capaz de gerar a tabuada de qualquer número inteiro entre 1 a 10. O usuário deve informar de qual numero ele deseja ver a tabuada. A saída deve ser conforme o exemplo abaixo:\n",
    "Tabuada de 5:\n",
    "5 X 1 = 5\n",
    "5 X 2 = 10\n",
    "...\n",
    "5 X 10 = 50\n"
   ]
  },
  {
   "cell_type": "code",
   "execution_count": null,
   "metadata": {},
   "outputs": [],
   "source": [
    "num = int(input(\"Digite um numero para saber a Tabua\"))\n",
    "print('{} X {} = {}'.format(num, 1, num*1))\n",
    "print('{} X {} = {}'.format(num, 2, num*2))\n",
    "print('{} X {} = {}'.format(num, 3, num*3))\n",
    "print('{} X {} = {}'.format(num, 4, num*4))\n",
    "print('{} X {} = {}'.format(num, 5, num*5))\n",
    "print('{} X {} = {}'.format(num, 6, num*6))\n",
    "print('{} X {} = {}'.format(num, 7, num*7))\n",
    "print('{} X {} = {}'.format(num, 8, num*8))\n",
    "print('{} X {} = {}'.format(num, 9, num*9))\n",
    "print('{} X {} = {}'.format(num, 10, num*10))"
   ]
  },
  {
   "cell_type": "markdown",
   "metadata": {},
   "source": [
    "18. A série de Fibonacci é formada pela seqüência 1,1,2,3,5,8,13,21,34,55,... Faça um\n",
    "programa capaz de gerar a série até o n−ésimo termo."
   ]
  },
  {
   "cell_type": "code",
   "execution_count": null,
   "metadata": {},
   "outputs": [],
   "source": [
    "n = int(input('quantos termos quer mostrar?: '))\n",
    "t1=0\n",
    "t2=1\n",
    "print('{}, {}'.format(t1, t2),end='')\n",
    "cont = 3\n",
    "while cont <= n:\n",
    "    t3 = t1 + t2\n",
    "    print(', {}'.format(t3),end='')\n",
    "    t1 = t2\n",
    "    t2 = t3\n",
    "    cont +=1\n",
    "print('\\nAcabou')\n",
    "\n",
    "\n"
   ]
  },
  {
   "cell_type": "markdown",
   "metadata": {},
   "source": [
    "19. Faça um programa que calcule o fatorial de um número inteiro fornecido pelo\n",
    "usuário. Ex.: 5!=5.4.3.2.1=120\n"
   ]
  },
  {
   "cell_type": "code",
   "execution_count": null,
   "metadata": {},
   "outputs": [],
   "source": [
    "n = int(input('Digite um numero: '))\n",
    "c = n\n",
    "f = 1\n",
    "print('Fat {}! = '.format(n),end='')\n",
    "while c > 0:\n",
    "    print('{} '.format(c), end='')\n",
    "    print(' X' if c > 1 else '=', end='')\n",
    "    f = f * c\n",
    "    c -= 1\n",
    "print('{}'.format(f))"
   ]
  },
  {
   "cell_type": "markdown",
   "metadata": {},
   "source": [
    "20. O Sr. Manoel Joaquim possui uma grande loja de artigos de R$ 1,99, com cerca\n",
    "de 10 caixas. Para agilizar o cálculo de quanto cada cliente deve pagar ele\n",
    "desenvolveu um tabela que contém o número de itens que o cliente comprou e ao\n",
    "lado o valor da conta. Desta forma a atendente do caixa precisa apenas contar\n",
    "quantos itens o cliente está levando e olhar na tabela de preços. Você foi contratado\n",
    "para desenvolver o programa que monta esta tabela de preços, que conterá os\n",
    "preços de 1 até 50 produtos, conforme o exemplo abaixo:\n",
    "\n",
    "Lojas Quase Dois - Tabela de preços\n",
    "1 - R$ 1.99\n",
    "2 - R$ 3.98\n",
    "...\n",
    "50 - R$ 99.50\n",
    "\n"
   ]
  },
  {
   "cell_type": "code",
   "execution_count": null,
   "metadata": {},
   "outputs": [],
   "source": []
  },
  {
   "cell_type": "markdown",
   "metadata": {},
   "source": [
    "21. O Sr. Manoel Joaquim acaba de adquirir uma panificadora e pretende implantar\n",
    "a metodologia da tabelinha, que já é um sucesso na sua loja de 1,99. Você foi\n",
    "contratado para desenvolver o programa que monta a tabela de preços de pães, de\n",
    "1 até 50 pães, a partir do preço do pão informado pelo usuário, conforme o exemplo\n",
    "abaixo:\n",
    "\n",
    "Preço do pão: R$ 0.18\n",
    "Panificadora Pão de Ontem - Tabela de preços\n",
    "1 - R$ 0.18\n",
    "2 - R$ 0.36\n",
    "...\n",
    "50 - R$ 9.00\n"
   ]
  },
  {
   "cell_type": "code",
   "execution_count": null,
   "metadata": {},
   "outputs": [],
   "source": []
  },
  {
   "cell_type": "markdown",
   "metadata": {},
   "source": [
    "22. O Sr. Manoel Joaquim expandiu seus negócios para além dos negócios de 1,99 e\n",
    "agora possui uma loja de conveniências. Faça um programa que implemente uma\n",
    "caixa registradora rudimentar. O programa deverá receber um número\n",
    "desconhecido de valores referentes aos preços das mercadorias. Um valor zero deve\n",
    "ser informado pelo operador para indicar o final da compra. O programa deve então\n",
    "mostrar o total da compra e perguntar o valor em dinheiro que o cliente forneceu,\n",
    "para então calcular e mostrar o valor do troco. Após esta operação, o programa\n",
    "deverá voltar ao ponto inicial, para registrar a próxima compra. A saída deve ser\n",
    "conforme o exemplo abaixo:\n",
    "Lojas Tabajara\n",
    "Produto 1: R$ 2.20\n",
    "Produto 2: R$ 5.80\n",
    "Produto 3: R$ 0\n",
    "Total: R$ 9.00\n",
    "Dinheiro: R$ 20.00\n",
    "Troco: R$ 11.00"
   ]
  },
  {
   "cell_type": "code",
   "execution_count": null,
   "metadata": {},
   "outputs": [],
   "source": []
  },
  {
   "cell_type": "markdown",
   "metadata": {},
   "source": [
    "23. Foi feita uma estatística em cinco cidades brasileiras para coletar dados sobre\n",
    "acidentes de trânsito. Foram obtidos os seguintes dados:\n",
    "- Código da cidade;\n",
    "- Número de veículos de passeio (em 1999);\n",
    "- Número de acidentes de trânsito com vítimas (em 1999). Deseja-se saber:\n",
    "- Qual o maior e menor índice de acidentes de transito e a que cidade pertence;\n",
    "- Qual a média de veículos nas cinco cidades juntas;\n",
    "- Qual a média de acidentes de trânsito nas cidades com menos de 2.000 veículos de\n",
    "passeio"
   ]
  },
  {
   "cell_type": "code",
   "execution_count": null,
   "metadata": {},
   "outputs": [],
   "source": []
  },
  {
   "cell_type": "markdown",
   "metadata": {},
   "source": [
    "24. Faça um programa que receba o valor de uma dívida e mostre uma tabela com os\n",
    "seguintes dados: valor da dívida, valor dos juros, quantidade de parcelas e valor da\n",
    "parcela.\n",
    "Os juros e a quantidade de parcelas seguem a tabela abaixo:\n",
    "Quantidade de Parcelas % de Juros sobre o valor inicial da dívida:\n",
    "1  0\n",
    "3  10\n",
    "6  15\n",
    "9  20\n",
    "12 25\n",
    "\n",
    "Exemplo de saída do programa:\n",
    "Valor da Dívida Valor dos Juros Quantidade de Parcelas Valor da Parcela\n",
    "R$ 1.000,00 0 1 R$ 1.000,00\n",
    "R$ 1.100,00 100 3 R$ 366,00\n",
    "R$ 1.150,00 150 6 R$ 191,67"
   ]
  },
  {
   "cell_type": "code",
   "execution_count": null,
   "metadata": {},
   "outputs": [],
   "source": []
  },
  {
   "cell_type": "markdown",
   "metadata": {},
   "source": [
    "25. Faça um programa que mostre os n termos da Série a seguir:\n",
    " S = 1/1 + 2/3 + 3/5 + 4/7 + 5/9 + ... + n/m.\n",
    "Imprima no final a soma da série.\n"
   ]
  },
  {
   "cell_type": "code",
   "execution_count": 28,
   "metadata": {},
   "outputs": [
    {
     "ename": "SyntaxError",
     "evalue": "Missing parentheses in call to 'print'. Did you mean print(\"Não pode ser um triangulo\")? (<ipython-input-28-74a484ad4c8f>, line 6)",
     "output_type": "error",
     "traceback": [
      "\u001b[1;36m  File \u001b[1;32m\"<ipython-input-28-74a484ad4c8f>\"\u001b[1;36m, line \u001b[1;32m6\u001b[0m\n\u001b[1;33m    print \"Não pode ser um triangulo\"\u001b[0m\n\u001b[1;37m                                    ^\u001b[0m\n\u001b[1;31mSyntaxError\u001b[0m\u001b[1;31m:\u001b[0m Missing parentheses in call to 'print'. Did you mean print(\"Não pode ser um triangulo\")?\n"
     ]
    }
   ],
   "source": []
  }
 ],
 "metadata": {
  "kernelspec": {
   "display_name": "Python 3",
   "language": "python",
   "name": "python3"
  },
  "language_info": {
   "codemirror_mode": {
    "name": "ipython",
    "version": 3
   },
   "file_extension": ".py",
   "mimetype": "text/x-python",
   "name": "python",
   "nbconvert_exporter": "python",
   "pygments_lexer": "ipython3",
   "version": "3.6.5"
  }
 },
 "nbformat": 4,
 "nbformat_minor": 2
}
